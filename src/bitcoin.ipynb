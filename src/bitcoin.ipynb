{
 "cells": [
  {
   "cell_type": "code",
   "execution_count": null,
   "id": "cddc8320",
   "metadata": {},
   "outputs": [],
   "source": [
    "fdas"
   ]
  },
  {
   "cell_type": "code",
   "execution_count": null,
   "id": "d40c4813",
   "metadata": {},
   "outputs": [],
   "source": [
    "safasd"
   ]
  }
 ],
 "metadata": {
  "kernelspec": {
   "display_name": "env",
   "language": "python",
   "name": "python3"
  },
  "language_info": {
   "name": "python",
   "version": "3.13.5"
  }
 },
 "nbformat": 4,
 "nbformat_minor": 5
}
